{
 "cells": [
  {
   "cell_type": "markdown",
   "id": "d269841a",
   "metadata": {},
   "source": [
    "# Baseline Model 2: Logistic Regression with TF-IDF\n",
    "\n",
    "## Objective\n",
    "To train and evaluate a Logistic Regression classifier on IMDb reviews using TF-IDF features, and compare its performance with Naive Bayes.\n"
   ]
  },
  {
   "cell_type": "code",
   "execution_count": null,
   "id": "415f6c6b",
   "metadata": {},
   "outputs": [],
   "source": [
    "# Step 1: Import libraries\n",
    "\n",
    "import pandas as pd\n",
    "from sklearn.model_selection import train_test_split\n",
    "from sklearn.feature_extraction.text import TfidfVectorizer\n",
    "from sklearn.linear_model import LogisticRegression\n",
    "from sklearn.metrics import accuracy_score, classification_report, confusion_matrix\n",
    "import seaborn as sns\n",
    "import matplotlib.pyplot as plt\n"
   ]
  },
  {
   "cell_type": "code",
   "execution_count": null,
   "id": "5a2feee2",
   "metadata": {},
   "outputs": [],
   "source": [
    "# Step 2: Load preprocessed dataset\n",
    "\n",
    "df = pd.read_csv(\"data/cleaned_imdb_reviews.csv\")\n",
    "\n",
    "X = df[\"cleaned_review\"]\n",
    "Y = df[\"label\"]\n",
    "\n",
    "X_train, X_test, Y_train, Y_test = train_test_split(\n",
    "    X, Y, test_size=0.2, random_state=42\n",
    ")\n"
   ]
  },
  {
   "cell_type": "code",
   "execution_count": null,
   "id": "fc62f6e7",
   "metadata": {},
   "outputs": [],
   "source": [
    "# Step 3: TF-IDF encoding\n",
    "\n",
    "tfidf = TfidfVectorizer(max_features=5000, stop_words=\"english\")\n",
    "X_train_tfidf = tfidf.fit_transform(X_train)\n",
    "X_test_tfidf = tfidf.transform(X_test)\n"
   ]
  },
  {
   "cell_type": "code",
   "execution_count": null,
   "id": "eecd0c82",
   "metadata": {},
   "outputs": [],
   "source": [
    "# Step 4: Train Logistic Regression\n",
    "\n",
    "lr_model = LogisticRegression(max_iter=200, solver=\"liblinear\")  \n",
    "lr_model.fit(X_train_tfidf, Y_train)\n",
    "\n",
    "Y_pred = lr_model.predict(X_test_tfidf)\n"
   ]
  },
  {
   "cell_type": "code",
   "execution_count": null,
   "id": "05601fb3",
   "metadata": {},
   "outputs": [],
   "source": [
    "# Step 5: Evaluation\n",
    "print(\"Accuracy:\", round(accuracy_score(Y_test, Y_pred), 4))\n",
    "print(\"\\nClassification Report:\\n\", classification_report(Y_test, Y_pred))\n",
    "\n",
    "# Confusion matrix\n",
    "cm = confusion_matrix(Y_test, Y_pred)\n",
    "sns.heatmap(cm, annot=True, fmt=\"d\", cmap=\"Purples\",\n",
    "            xticklabels=[\"Negative\", \"Positive\"],\n",
    "            yticklabels=[\"Negative\", \"Positive\"])\n",
    "plt.xlabel(\"Predicted\")\n",
    "plt.ylabel(\"True\")\n",
    "plt.title(\"Confusion Matrix - Logistic Regression\")\n",
    "plt.show()\n"
   ]
  }
 ],
 "metadata": {
  "language_info": {
   "name": "python"
  }
 },
 "nbformat": 4,
 "nbformat_minor": 5
}
