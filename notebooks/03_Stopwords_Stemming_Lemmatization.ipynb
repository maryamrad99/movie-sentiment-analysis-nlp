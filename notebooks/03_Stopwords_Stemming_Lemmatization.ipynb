{
 "cells": [
  {
   "cell_type": "markdown",
   "id": "4e7a9bfc",
   "metadata": {},
   "source": [
    "# Preprocessing (Stopwords, Stemming & Lemmatization)\n",
    "\n",
    "## Objective\n",
    "Goal to extend preprocessing by:\n",
    "1. Removing stopwords\n",
    "2. Applying stemming\n",
    "3. Applying lemmatization"
   ]
  },
  {
   "cell_type": "code",
   "execution_count": null,
   "id": "377a6024",
   "metadata": {},
   "outputs": [],
   "source": [
    "# Step 1: Import libraries\n",
    "\n",
    "import os\n",
    "import string\n",
    "import nltk\n",
    "from nltk.tokenize import word_tokenize\n",
    "from nltk.corpus import stopwords\n",
    "from nltk.stem import PorterStemmer, WordNetLemmatizer\n",
    "\n",
    "# Download resources (run once)\n",
    "nltk.download('punkt')\n",
    "nltk.download('stopwords')\n",
    "nltk.download('wordnet')\n",
    "nltk.download('omw-1.4')"
   ]
  },
  {
   "cell_type": "code",
   "execution_count": null,
   "id": "ede69110",
   "metadata": {},
   "outputs": [],
   "source": [
    "# Step 2: Load sample review (same as before)\n",
    "\n",
    "base_dir = \"/Users/mimi/aclImdb\"\n",
    "train_pos_dir = os.path.join(base_dir, \"train/pos\")\n",
    "train_neg_dir = os.path.join(base_dir, \"train/neg\")\n",
    "\n",
    "sample_pos = open(os.path.join(train_pos_dir, os.listdir(train_pos_dir)[0]), encoding=\"utf-8\").read()\n",
    "sample_neg = open(os.path.join(train_neg_dir, os.listdir(train_neg_dir)[0]), encoding=\"utf-8\").read()\n",
    "\n",
    "print(\" Raw Positive Review:\\n\", sample_pos[:300])\n",
    "print(\"\\n Raw Negative Review:\\n\", sample_neg[:300])\n"
   ]
  },
  {
   "cell_type": "code",
   "execution_count": null,
   "id": "d3fafe76",
   "metadata": {},
   "outputs": [],
   "source": [
    "# Step 3: Define preprocessing functions\n",
    "\n",
    "stop_words = set(stopwords.words('english'))\n",
    "stemmer = PorterStemmer()\n",
    "lemmatizer = WordNetLemmatizer()\n",
    "\n",
    "def preprocess_with_stopwords(text):\n",
    "    # Lowercase\n",
    "    text = text.lower()\n",
    "    # Remove punctuation\n",
    "    text = text.translate(str.maketrans(\"\", \"\", string.punctuation))\n",
    "    # Tokenize\n",
    "    tokens = word_tokenize(text)\n",
    "    # Remove stopwords\n",
    "    tokens = [t for t in tokens if t not in stop_words]\n",
    "    return tokens\n",
    "\n",
    "def apply_stemming(tokens):\n",
    "    return [stemmer.stem(t) for t in tokens]\n",
    "\n",
    "def apply_lemmatization(tokens):\n",
    "    return [lemmatizer.lemmatize(t) for t in tokens]"
   ]
  },
  {
   "cell_type": "code",
   "execution_count": null,
   "id": "453dd14b",
   "metadata": {},
   "outputs": [],
   "source": [
    "# Step 4: Apply preprocessing to positive review\n",
    "\n",
    "tokens_pos = preprocess_with_stopwords(sample_pos)\n",
    "tokens_pos_stem = apply_stemming(tokens_pos)\n",
    "tokens_pos_lemma = apply_lemmatization(tokens_pos)\n",
    "\n",
    "print(\" Tokens (no stopwords):\", tokens_pos[:30])\n",
    "print(\" Stemmed tokens:\", tokens_pos_stem[:30])\n",
    "print(\" Lemmatized tokens:\", tokens_pos_lemma[:30])"
   ]
  },
  {
   "cell_type": "code",
   "execution_count": null,
   "id": "3bba3942",
   "metadata": {},
   "outputs": [],
   "source": [
    "# Step 5: Apply preprocessing to negative review\n",
    "\n",
    "tokens_neg = preprocess_with_stopwords(sample_neg)\n",
    "tokens_neg_stem = apply_stemming(tokens_neg)\n",
    "tokens_neg_lemma = apply_lemmatization(tokens_neg)\n",
    "\n",
    "print(\" Tokens (no stopwords):\", tokens_neg[:30])\n",
    "print(\" Stemmed tokens:\", tokens_neg_stem[:30])\n",
    "print(\" Lemmatized tokens:\", tokens_neg_lemma[:30])"
   ]
  }
 ],
 "metadata": {
  "language_info": {
   "name": "python"
  }
 },
 "nbformat": 4,
 "nbformat_minor": 5
}
