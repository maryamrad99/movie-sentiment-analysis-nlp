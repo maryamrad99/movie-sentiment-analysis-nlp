{
 "cells": [
  {
   "cell_type": "markdown",
   "id": "ba076de1",
   "metadata": {},
   "source": [
    "# Text Encoding\n",
    "\n",
    "## Objective\n",
    "Goal is to:\n",
    "1. Implement Bag-of-Words (BoW) encoding\n",
    "2. Implement TF-IDF encoding\n",
    "3. Compare vocab sizes\n",
    "4. Visualize word frequencies"
   ]
  },
  {
   "cell_type": "code",
   "execution_count": null,
   "id": "7dc5499c",
   "metadata": {},
   "outputs": [],
   "source": [
    "# Step 1: Import necessary libraries\n",
    "\n",
    "import os\n",
    "import panda as pd\n",
    "from sklearn.feature_extraction.text import CountVectorizer, TfidfVectorizer\n",
    "import matplotlib.pyplot as plt\n",
    "import seaborn as sns"
   ]
  },
  {
   "cell_type": "code",
   "execution_count": null,
   "id": "32b3e215",
   "metadata": {},
   "outputs": [],
   "source": [
    "# Step 2: Load a subset of data\n",
    "\n",
    "base_dir = \"/User/mimi/aclImdb\"\n",
    "train_pos_dir = os.path.join(base_dir, \"train/pos\")\n",
    "train_neg_dir = os.path.join(base_dir, \"train/neg\")\n",
    "\n",
    "def load_reviews(directory, limit=1000):\n",
    "    data = []\n",
    "    for x, filename in enumerate(os.listdir(directory)):\n",
    "        if x >= limit:\n",
    "            break\n",
    "        with open(os.path.join(directory, filename), \"r\", encoding=\"utf-8\") as f:\n",
    "            data.append(f.read())\n",
    "    return data\n",
    "\n",
    "pos_reviews = load_reviews(train_pos_dir, limit=1000)\n",
    "neg_reviews = load_reviews(train_neg_dir, limit=1000)\n",
    "\n",
    "all_reviews = pos_reviews + neg_reviews\n",
    "labels = [1] * len(pos_reviews) + [0] * len(neg_reviews)\n",
    "\n",
    "print(\"Total reviews loaded:\", len(all_reviews))"
   ]
  },
  {
   "cell_type": "markdown",
   "id": "566280e0",
   "metadata": {},
   "source": [
    "## Step 3: BoW (Bag-Of Words) Encoding\n",
    "\n",
    "Convert text into a sparse matric of word counts"
   ]
  },
  {
   "cell_type": "code",
   "execution_count": null,
   "id": "2b138a43",
   "metadata": {},
   "outputs": [],
   "source": [
    "# Step 3: BoW\n",
    "\n",
    "bow_vectorizer = CountVectorizer(max_features=5000, stop_words=\"english\")\n",
    "\n",
    "X_bow = bow_vectorizer.fit_transform(all_reviews)\n",
    "\n",
    "print(\"BOW shape:\", X_bow.shape)\n",
    "print(\"Vocabulary size (BoW):\", len(bow_vectorizer.get_feature_names_out()))"
   ]
  },
  {
   "cell_type": "markdown",
   "id": "4b2a76cd",
   "metadata": {},
   "source": [
    "## Step 4: TF-IDF Encoding\n",
    "\n",
    "TF-IDF assigns weights based on frequency in document and rarity across documents."
   ]
  },
  {
   "cell_type": "code",
   "execution_count": null,
   "id": "4e8e4bb2",
   "metadata": {},
   "outputs": [],
   "source": [
    "# Step 4: TF-IDF\n",
    "\n",
    "tfidf_vectorizer = TfidfVectorizer(max_features=5000, stop_words=\"english\")\n",
    "\n",
    "X_tfidf = tfidf_vectorizer.fit_transform(all_reviews)\n",
    "\n",
    "print(\"TF-IDF shape:\", X_tfidf.shape)\n",
    "print(\"Vocabulary size (TF-IDF):\", len(tfidf_vectorizer.get_feature_names_out()))"
   ]
  },
  {
   "cell_type": "code",
   "execution_count": null,
   "id": "2d7449b9",
   "metadata": {},
   "outputs": [],
   "source": [
    "# Step 5, a: Compare Top Words in BoW\n",
    "\n",
    "word_counts = X_bow.toarray().sum(axis=0)\n",
    "words = bow_vectorizer.get_feature_names_out()\n",
    "bow_freq = pd.DataFrame({'word': words, 'count': word_counts})\n",
    "bow_freq = bow_freq.sort_values(by='count', ascending=False).head(20)\n",
    "\n",
    "plt.figure(figsize=(10,5))\n",
    "sns.barplot(x='count', y='word', data=bow_freq, palette=\"Blues_d\")\n",
    "plt.title(\"Top 20 Words in Bag-of-Words\")\n",
    "plt.show()"
   ]
  },
  {
   "cell_type": "code",
   "execution_count": null,
   "id": "51dbb3af",
   "metadata": {},
   "outputs": [],
   "source": [
    "# Step 5, b: Compare Top Words in TF-IDF\n",
    "\n",
    "tfidf_scores = X_tfidf.toarray().sum(axis=0)\n",
    "words = tfidf_vectorizer.get_feature_names_out()\n",
    "tfidf_freq = pd.DataFrame({'word': words, 'score': tfidf_scores})\n",
    "tfidf_freq = tfidf_freq.sort_values(by='score', ascending=False).head(20)\n",
    "\n",
    "plt.figure(figsize=(10,5))\n",
    "sns.barplot(x='score', y='word', data=tfidf_freq, palette=\"Greens_d\")\n",
    "plt.title(\"Top 20 Words in TF-IDF\")\n",
    "plt.show()"
   ]
  }
 ],
 "metadata": {
  "language_info": {
   "name": "python"
  }
 },
 "nbformat": 4,
 "nbformat_minor": 5
}
