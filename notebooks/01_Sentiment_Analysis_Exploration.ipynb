{
 "cells": [
  {
   "cell_type": "markdown",
   "id": "81bae15f",
   "metadata": {},
   "source": [
    "# 🎬 Sentiment Analysis on Movie Reviews\n",
    "\n",
    "Goal is to analyze the sentiment of movie reviews using the Stanford Large Movie Review Dataset.\n",
    "1. Download and extract the **Stanford Large Movie Review Dataset**.\n",
    "2. Explore its structure (positive vs. negative reviews).\n",
    "3. View a few sample reviews.\n",
    "4. Collect basic statistics (counts, average review length)."
   ]
  },
  {
   "cell_type": "code",
   "execution_count": null,
   "id": "c3dcab8f",
   "metadata": {},
   "outputs": [],
   "source": [
    "# Step 1: Import Libraries\n",
    "\n",
    "import os\n",
    "import tarfile\n",
    "import urllib.request\n",
    "import numpy as np\n",
    "import matplotlib.pyplot as plt"
   ]
  },
  {
   "cell_type": "code",
   "execution_count": null,
   "id": "78425f16",
   "metadata": {},
   "outputs": [],
   "source": [
    "# Step 2: Download the IMDb Dataset\n",
    "\n",
    "url = \"https://ai.stanford.edu/~amaas/data/sentiment/aclImdb_v1.tar.gz\"\n",
    "filename = \"aclImdb_v1.tar.gz\"\n",
    "\n",
    "if not os.path.exists(filename):\n",
    "    print(\"Downloading dataset...\")\n",
    "    urllib.request.urlretrieve(url, filename)\n",
    "\n",
    "if not os.path.exists(\"aclImdb\"):\n",
    "    print(\"Extracting dataset...\")\n",
    "    with tarfile.open(filename, \"r:gz\") as tar:\n",
    "        tar.extractall()\n",
    "\n",
    "print(\"Dataset ready!\")"
   ]
  },
  {
   "cell_type": "markdown",
   "id": "d177b8ee",
   "metadata": {},
   "source": [
    "## Step 3: Directory Structure\n",
    "\n",
    "The dataset should now be extracted into a folder `aclImdb/` with:\n",
    "- `train/pos` → positive training reviews\n",
    "- `train/neg` → negative training reviews\n",
    "- `test/pos` → positive testing reviews\n",
    "- `test/neg` → negative testing reviews"
   ]
  },
  {
   "cell_type": "code",
   "execution_count": null,
   "id": "dc453e9e",
   "metadata": {},
   "outputs": [],
   "source": [
    "# Step 3: Check Directories\n",
    "\n",
    "base_dir = \"/Users/mimi/aclImdb\" \n",
    "train_pos_dir = os.path.join(base_dir, \"train/pos\")\n",
    "train_neg_dir = os.path.join(base_dir, \"train/neg\")\n",
    "test_pos_dir = os.path.join(base_dir, \"test/pos\")\n",
    "test_neg_dir = os.path.join(base_dir, \"test/neg\")\n",
    "\n",
    "print(\"Train positive reviews:\", len(os.listdir(train_pos_dir)))\n",
    "print(\"Train negative reviews:\", len(os.listdir(train_neg_dir)))\n",
    "print(\"Test positive reviews:\", len(os.listdir(test_pos_dir)))\n",
    "print(\"Test negative reviews:\", len(os.listdir(test_neg_dir)))"
   ]
  },
  {
   "cell_type": "markdown",
   "id": "fae2fd1f",
   "metadata": {},
   "source": [
    "## Step 4: View Sample Reviews\n",
    "\n",
    "Take one positive and one negative review and display the first 500 characters."
   ]
  },
  {
   "cell_type": "code",
   "execution_count": null,
   "id": "d12d13ca",
   "metadata": {},
   "outputs": [],
   "source": [
    "# Step 4: View Sample Reviews\n",
    "\n",
    "pos_example = open(os.path.join(train_pos_dir, os.listdir(train_pos_dir)[0]), encoding=\"utf-8\").read()\n",
    "neg_example = open(os.path.join(train_neg_dir, os.listdir(train_neg_dir)[0]), encoding=\"utf-8\").read()\n",
    "\n",
    "print(\" Positive Example:\\n\", pos_example[:500], \"\\n\")\n",
    "print(\" Negative Example:\\n\", neg_example[:500], \"\\n\")"
   ]
  },
  {
   "cell_type": "markdown",
   "id": "427f4c19",
   "metadata": {},
   "source": [
    "## Step 5: Basic Statistics\n",
    "\n",
    "Measure:\n",
    "- Average review length\n",
    "- Distribution of lengths"
   ]
  },
  {
   "cell_type": "code",
   "execution_count": null,
   "id": "13d78779",
   "metadata": {},
   "outputs": [],
   "source": [
    "# Step 5: Basic Statistics\n",
    "\n",
    "lengths_pos = [len(open(os.path.join(train_pos_dir, f), encoding=\"utf-8\").read().split()) \n",
    "               for f in os.listdir(train_pos_dir)[:1000]]  # sample 1000 reviews\n",
    "lengths_neg = [len(open(os.path.join(train_neg_dir, f), encoding=\"utf-8\").read().split()) \n",
    "               for f in os.listdir(train_neg_dir)[:1000]]\n",
    "\n",
    "print(\"Average length (positive reviews):\", np.mean(lengths_pos))\n",
    "print(\"Average length (negative reviews):\", np.mean(lengths_neg))\n",
    "\n",
    "# Plot distribution\n",
    "plt.hist(lengths_pos, bins=50, alpha=0.6, label=\"Positive\")\n",
    "plt.hist(lengths_neg, bins=50, alpha=0.6, label=\"Negative\")\n",
    "plt.legend()\n",
    "plt.title(\"Review Length Distribution\")\n",
    "plt.xlabel(\"Word Count\")\n",
    "plt.ylabel(\"Frequency\")\n",
    "plt.show()"
   ]
  }
 ],
 "metadata": {
  "language_info": {
   "name": "python"
  }
 },
 "nbformat": 4,
 "nbformat_minor": 5
}
