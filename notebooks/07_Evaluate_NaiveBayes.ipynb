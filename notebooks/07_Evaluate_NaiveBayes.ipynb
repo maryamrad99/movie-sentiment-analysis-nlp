{
 "cells": [
  {
   "cell_type": "markdown",
   "id": "9f8f8fd2",
   "metadata": {},
   "source": [
    "# Evaluation of Naive Bayes Model\n",
    "\n",
    "## Objective\n",
    "Evaluate the Naive Bayes classifier trained on TF-IDF features:\n",
    "- Accuracy\n",
    "- Precision\n",
    "- Recall\n",
    "- F1-score\n",
    "- Confusion Matrix\n",
    "- Interpretation of results"
   ]
  },
  {
   "cell_type": "code",
   "execution_count": null,
   "id": "36e61606",
   "metadata": {},
   "outputs": [],
   "source": [
    "# Step 1: Import Libraries\n",
    "\n",
    "import pandas as pd\n",
    "from sklearn.model_selection import train_test_split\n",
    "from sklearn.feature_extraction.text import TfidfVectorizer\n",
    "from sklearn.naive_bayes import MultinomialNB\n",
    "from sklearn.metrics import (\n",
    "    accuracy_score, classification_report, confusion_matrix)\n",
    "\n",
    "import seaborn as sns\n",
    "import matplotlib.pyplot as plt"
   ]
  },
  {
   "cell_type": "code",
   "execution_count": null,
   "id": "5382a21f",
   "metadata": {},
   "outputs": [],
   "source": [
    "# Step 2: Load dataset\n",
    "\n",
    "df = pd.read_csv(\"data/ccleaned_imdb_reviews.csv\")\n",
    "\n",
    "X = df[\"cleaned_review\"]\n",
    "Y = df[\"label\"]\n",
    "\n",
    "X_train, X_test, Y_train, Y_test = train_test_split(\n",
    "    X, Y, test_size=0.2, random_state=42\n",
    ")"
   ]
  },
  {
   "cell_type": "code",
   "execution_count": null,
   "id": "87c9758a",
   "metadata": {},
   "outputs": [],
   "source": [
    "# Step 3: TF-IDF encoding\n",
    "\n",
    "tfidf = TfidfVectorizer(max_features=5000, stop_words=\"english\")\n",
    "X_train_tfidf = tfidf.fit_transform(X_train)\n",
    "X_test_tfidf = tfidf.transform(X_test)\n",
    "\n",
    "print(\"TF-IDF Train shape:\", X_train_tfidf.shape)\n",
    "print(\"TF-IDF Test shape:\", X_test_tfidf.shape)\n"
   ]
  },
  {
   "cell_type": "code",
   "execution_count": null,
   "id": "f15163c4",
   "metadata": {},
   "outputs": [],
   "source": [
    "# Step 4: Load & train Naive Bayes model\n",
    "\n",
    "nb_model = MultinomialNB()\n",
    "nb_model.fit(X_train_tfidf, Y_train)\n",
    "\n",
    "Y_pred = nb_model.predict(X_test_tfidf)"
   ]
  },
  {
   "cell_type": "code",
   "execution_count": null,
   "id": "33eaa91a",
   "metadata": {},
   "outputs": [],
   "source": [
    "# Step 5: Evaluation metrics\n",
    "\n",
    "acc = accuracy_score(Y_test, Y_pred)\n",
    "print(\"Accuracy:\", round(acc, 4))\n",
    "\n",
    "print(\"\\nClassification Report:\\n\", classification_report(Y_test, Y_pred))"
   ]
  },
  {
   "cell_type": "code",
   "execution_count": null,
   "id": "a419251d",
   "metadata": {},
   "outputs": [],
   "source": [
    " # Step 6: Confusion Matrix\n",
    "cm = confusion_matrix(Y_test, Y_pred)\n",
    "\n",
    "plt.figure(figsize=(6,4))\n",
    "sns.heatmap(cm, annot=True, fmt=\"d\", cmap=\"Blues\",\n",
    "            xticklabels=[\"Negative\", \"Positive\"],\n",
    "            yticklabels=[\"Negative\", \"Positive\"])\n",
    "plt.xlabel(\"Predicted\")\n",
    "plt.ylabel(\"True\")\n",
    "plt.title(\"Confusion Matrix - Naive Bayes\")\n",
    "plt.show()\n"
   ]
  }
 ],
 "metadata": {
  "language_info": {
   "name": "python"
  }
 },
 "nbformat": 4,
 "nbformat_minor": 5
}
