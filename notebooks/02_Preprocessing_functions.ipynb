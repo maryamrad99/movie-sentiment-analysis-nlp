{
 "cells": [
  {
   "cell_type": "markdown",
   "id": "7d03a763",
   "metadata": {},
   "source": [
    "# Preprocessing Movie Reviews \n",
    "\n",
    "## Objective\n",
    "Goal is to implement basic text preprocessing:\n",
    "1. Convert text to **lowercase**.\n",
    "2. **Remove punctuation** and special characters.\n",
    "3. **Tokenize** the text (split into words)."
   ]
  },
  {
   "cell_type": "code",
   "execution_count": null,
   "id": "0e38b69e",
   "metadata": {},
   "outputs": [],
   "source": [
    "#Step 1 : Import libraries\n",
    "\n",
    "import os\n",
    "import re\n",
    "import string\n",
    "from nltk.tokenize import word_tokenize\n",
    "import nltk\n",
    "\n",
    "# Download tokenizer resources\n",
    "nltk.download('punkt')"
   ]
  },
  {
   "cell_type": "code",
   "execution_count": null,
   "id": "34a4584f",
   "metadata": {},
   "outputs": [],
   "source": [
    "# Step 2: Load sample reviews\n",
    "\n",
    "base_dir = \"/Users/mimi/aclImdb\"\n",
    "train_pos_dir = os.path.join(base_dir, \"train/pos\")\n",
    "train_neg_dir = os.path.join(base_dir, \"train/neg\")\n",
    "\n",
    "sample_pos = open(os.path.join(train_pos_dir, os.listdir(train_pos_dir)[0]), encoding=\"utf-8\").read()\n",
    "sample_neg = open(os.path.join(train_neg_dir, os.listdir(train_neg_dir)[0]), encoding=\"utf-8\").read()\n",
    "\n",
    "print(\" Raw Positive Review:\\n\", sample_pos[:400])\n",
    "print(\"\\n Raw Negative Review:\\n\", sample_neg[:400])"
   ]
  },
  {
   "cell_type": "markdown",
   "id": "41c4a634",
   "metadata": {},
   "source": [
    "## Step 3: Define Preprocessing Functions\n",
    "\n",
    "Implement:\n",
    "- `to_lowercase()`\n",
    "- `remove_punctuation()`\n",
    "- `tokenize_text()`"
   ]
  },
  {
   "cell_type": "code",
   "execution_count": null,
   "id": "13eca89e",
   "metadata": {},
   "outputs": [],
   "source": [
    "# Step 3: Preprocessing Functions\n",
    "\n",
    "def to_lowercase(text):\n",
    "    return text.lower()\n",
    "\n",
    "def remove_punctuation(text):\n",
    "    return text.translate(str.maketrans(\"\", \"\", string.punctuation))\n",
    "\n",
    "def tokenize_text(text):\n",
    "    return word_tokenize(text)\n",
    "\n",
    "# Combine them into one pipeline\n",
    "def preprocess(text):\n",
    "    text = to_lowercase(text)\n",
    "    text = remove_punctuation(text)\n",
    "    tokens = tokenize_text(text)\n",
    "    return tokens\n"
   ]
  },
  {
   "cell_type": "markdown",
   "id": "7e5e8163",
   "metadata": {},
   "source": [
    "## Step 4: Apply Preprocessing\n",
    "Let’s see the before and after for positive and negative reviews."
   ]
  },
  {
   "cell_type": "code",
   "execution_count": null,
   "id": "db518f87",
   "metadata": {},
   "outputs": [],
   "source": [
    "# Step 4: Apply Preprocessing\n",
    "\n",
    "processed_pos = preprocess(sample_pos)\n",
    "processed_neg = preprocess(sample_neg)\n",
    "\n",
    "print(\" Preprocessed Positive Review Tokens:\\n\", processed_pos[:40])\n",
    "print(\"\\n Preprocessed Negative Review Tokens:\\n\", processed_neg[:40])"
   ]
  }
 ],
 "metadata": {
  "language_info": {
   "name": "python"
  }
 },
 "nbformat": 4,
 "nbformat_minor": 5
}
