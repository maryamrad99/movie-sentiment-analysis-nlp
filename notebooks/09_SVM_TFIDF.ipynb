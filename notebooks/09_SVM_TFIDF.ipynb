{
 "cells": [
  {
   "cell_type": "markdown",
   "id": "541b7185",
   "metadata": {},
   "source": [
    "\n",
    "# Baseline Model 3: Support Vector Machine (SVM) with TF-IDF\n",
    "\n",
    "## Objective\n",
    "Train a Support Vector Machine classifier using TF-IDF features on the IMDb dataset and compare its performance with Naive Bayes and Logistic Regression."
   ]
  },
  {
   "cell_type": "code",
   "execution_count": null,
   "id": "2ecf1d1b",
   "metadata": {},
   "outputs": [],
   "source": [
    "# Step 1: Import libraries\n",
    "\n",
    "import pandas as pd\n",
    "import seaborn as sns\n",
    "import matplotlib.pyplot as plt \n",
    "from sklearn.model_selection import train_test_split\n",
    "from sklearn.feature_extraction.text import TfidfVectorizer\n",
    "from sklearn.svm import LinearSVC\n",
    "from sklearn.metrics import classification_report, accuracy_score, confusion_matrix\n",
    "import os\n"
   ]
  },
  {
   "cell_type": "code",
   "execution_count": null,
   "id": "f59e2dc4",
   "metadata": {},
   "outputs": [],
   "source": [
    "# Step 2: Load preprocessed dataset\n",
    "\n",
    "# Get the absolute path to the data directory\n",
    "current_dir = os.path.dirname(os.path.abspath(__file__))\n",
    "parent_dir = os.path.dirname(current_dir)\n",
    "data_path = os.path.join(parent_dir, \"data\", \"cleaned_imdb_reviews.csv\")\n",
    "\n",
    "df = pd.read_csv(data_path)\n",
    "\n",
    "X = df[\"cleaned_review\"]\n",
    "Y = df[\"label\"]\n",
    "\n",
    "X_train, X_test, Y_train, Y_test = train_test_split(\n",
    "    X, Y, test_size=0.2, random_state=42\n",
    ")"
   ]
  },
  {
   "cell_type": "code",
   "execution_count": null,
   "id": "0307747e",
   "metadata": {},
   "outputs": [],
   "source": [
    "# Step 3: TF-IDF coding\n",
    "\n",
    "tfidf = TfidfVectorizer(max_features=5000, stop_words='english')\n",
    "X_train_tfidf = tfidf.fit_transform(X_train)\n",
    "X_test_tfidf = tfidf.transform(X_test)\n"
   ]
  },
  {
   "cell_type": "code",
   "execution_count": null,
   "id": "45113745",
   "metadata": {},
   "outputs": [],
   "source": [
    "# Step 4: Train SVM model\n",
    "\n",
    "svm_model = LinearSVC()\n",
    "svm_model.fit(X_train_tfidf, Y_train)\n",
    "\n",
    "Y_pred = svm_model.predict(X_test_tfidf)"
   ]
  },
  {
   "cell_type": "code",
   "execution_count": null,
   "id": "b49a070c",
   "metadata": {},
   "outputs": [],
   "source": [
    "# Step 5: Evaluate the model\n",
    "\n",
    "print(\"Accuracy:\", round(accuracy_score(Y_test, Y_pred), 4))\n",
    "print(\"\\nClassification Report:\\n\", classification_report(Y_test, Y_pred))\n",
    "\n",
    "# Confusion Matrix\n",
    "cm = confusion_matrix(Y_test, Y_pred)\n",
    "sns.heatmap(cm, annot=True, fmt='d', cmap='Blues', \n",
    "            xticklabels=['Negative', 'Positive'], \n",
    "            yticklabels=['Negative', 'Positive'])\n",
    "\n",
    "plt.xlabel('Predicted')\n",
    "plt.ylabel('True')\n",
    "plt.title('Confusion Matrix - SVM Model with TF-IDF')\n",
    "plt.show()"
   ]
  }
 ],
 "metadata": {
  "language_info": {
   "name": "python"
  }
 },
 "nbformat": 4,
 "nbformat_minor": 5
}
