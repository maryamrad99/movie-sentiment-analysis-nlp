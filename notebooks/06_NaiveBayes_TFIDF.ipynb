{
 "cells": [
  {
   "cell_type": "markdown",
   "id": "158b7f12",
   "metadata": {},
   "source": [
    "# Baseline Model 1: Naive Bayes with TF-IDF\n",
    "\n",
    "## Objective\n",
    "Train and evaluate a Naive Bayes classifier on IMDb reviews using TF-IDF encoding."
   ]
  },
  {
   "cell_type": "code",
   "execution_count": null,
   "id": "986a883a",
   "metadata": {},
   "outputs": [],
   "source": [
    "# Step 1: Import all libraries\n",
    "\n",
    "import pandas as pd # type: ignore\n",
    "from sklearn.model_selection import train_test_split # type: ignore\n",
    "from sklearn.feature_extraction.text import TfidfVectorizer\n",
    "from sklearn.naive_bayes import MultinomialNB\n",
    "from sklearn.metrics import accuracy_score, classification_report, confusion_matrix\n",
    "import seaborn as sns\n",
    "import matplotlib.pyplot as plt"
   ]
  },
  {
   "cell_type": "code",
   "execution_count": null,
   "id": "c63e2c4f",
   "metadata": {},
   "outputs": [],
   "source": [
    "# Step 2L Load pre-processed data\n",
    "\n",
    "df = pd.read_csv(\"data/cleaned_imbd_reviews.csv\")\n",
    "print(df.shape)\n",
    "df.head()"
   ]
  },
  {
   "cell_type": "code",
   "execution_count": null,
   "id": "6b4e3cd0",
   "metadata": {},
   "outputs": [],
   "source": [
    "# Step 3: Train-test split\n",
    "\n",
    "X = df[\"cleaned_review\"]\n",
    "Y = df[\"label\"]\n",
    "\n",
    "X_train, X_test, Y_train, Y_test = train_test_split(\n",
    "    X, Y, test_size=0.2, random_state=42\n",
    ")\n",
    "\n",
    "print(\"Train size:\", X_train.shape[0], \"Test size:\", X_test.shape[0])"
   ]
  },
  {
   "cell_type": "code",
   "execution_count": null,
   "id": "a48a8fb9",
   "metadata": {},
   "outputs": [],
   "source": [
    "# Step 4: TF-IDF encoding\n",
    "\n",
    "tfidif = TfidfVectorizer(max_features=5000, stop_words=\"english\")\n",
    "X_train_tfidf = tfidif.fit_transform(X_train)\n",
    "X_test_tfidf = tfidif.transform(X_test)\n",
    "\n",
    "print(\"TF-IDF Train shape:\", X_train_tfidf.shape)"
   ]
  },
  {
   "cell_type": "code",
   "execution_count": null,
   "id": "e9279c6c",
   "metadata": {},
   "outputs": [],
   "source": [
    "# Step 5: Train Naive Bayes model\n",
    "\n",
    "nb_model = MultinomialNB()\n",
    "nb_model.fit(X_train_tfidf, Y_train)\n",
    "\n",
    "Y_pred = nb_model.predict(X_test_tfidf)"
   ]
  },
  {
   "cell_type": "code",
   "execution_count": null,
   "id": "e8f5518c",
   "metadata": {},
   "outputs": [],
   "source": [
    "# Step 6: Evaluate the model\n",
    "\n",
    "print(\"Accuracy:\", accuracy_score(Y_test, Y_pred))\n",
    "print(\"\\nClassification Report:\\n\", classification_report(Y_test, Y_pred))\n",
    "\n",
    "# Confusion matrix\n",
    "\n",
    "cm = confusion_matrix(Y_test, Y_pred)\n",
    "sns.heatmap(cm, annot=True, fmt=\"d\", cmap=\"Blues\", xticklabels=[\"Neg\", \"Pos\"], yticklabels=[\"Neg\", \"Pos\"])\n",
    "plt.xlabel(\"Predicted\")\n",
    "plt.ylabel(\"True\")\n",
    "plt.title(\"Confusion Matrix - Naive Bayes\")\n",
    "plt.show()"
   ]
  }
 ],
 "metadata": {
  "language_info": {
   "name": "python"
  }
 },
 "nbformat": 4,
 "nbformat_minor": 5
}
